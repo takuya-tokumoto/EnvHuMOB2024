{
 "cells": [
  {
   "cell_type": "code",
   "execution_count": 1,
   "metadata": {},
   "outputs": [],
   "source": [
    "import polars as pl"
   ]
  },
  {
   "cell_type": "code",
   "execution_count": 2,
   "metadata": {},
   "outputs": [],
   "source": [
    "base_path = '/kaggle/s3storage/01_public/humob-challenge-2024/input/'"
   ]
  },
  {
   "cell_type": "code",
   "execution_count": 3,
   "metadata": {},
   "outputs": [
    {
     "data": {
      "text/html": [
       "<div><style>\n",
       ".dataframe > thead > tr,\n",
       ".dataframe > tbody > tr {\n",
       "  text-align: right;\n",
       "  white-space: pre-wrap;\n",
       "}\n",
       "</style>\n",
       "<small>shape: (5, 1)</small><table border=\"1\" class=\"dataframe\"><thead><tr><th>poi_category</th></tr><tr><td>str</td></tr></thead><tbody><tr><td>&quot;Food&quot;</td></tr><tr><td>&quot;Shopping&quot;</td></tr><tr><td>&quot;Entertainment&quot;</td></tr><tr><td>&quot;Japanese resta…</td></tr><tr><td>&quot;Western restau…</td></tr></tbody></table></div>"
      ],
      "text/plain": [
       "shape: (5, 1)\n",
       "┌─────────────────────┐\n",
       "│ poi_category        │\n",
       "│ ---                 │\n",
       "│ str                 │\n",
       "╞═════════════════════╡\n",
       "│ Food                │\n",
       "│ Shopping            │\n",
       "│ Entertainment       │\n",
       "│ Japanese restaurant │\n",
       "│ Western restaurant  │\n",
       "└─────────────────────┘"
      ]
     },
     "execution_count": 3,
     "metadata": {},
     "output_type": "execute_result"
    }
   ],
   "source": [
    "poi_datacategories = pl.read_csv(base_path + 'POI_datacategories.csv',  has_header=False, new_columns=[\"poi_category\"])\n",
    "poi_datacategories.head()"
   ]
  },
  {
   "cell_type": "code",
   "execution_count": 4,
   "metadata": {},
   "outputs": [
    {
     "data": {
      "text/html": [
       "<div><style>\n",
       ".dataframe > thead > tr,\n",
       ".dataframe > tbody > tr {\n",
       "  text-align: right;\n",
       "  white-space: pre-wrap;\n",
       "}\n",
       "</style>\n",
       "<small>shape: (5, 4)</small><table border=\"1\" class=\"dataframe\"><thead><tr><th>x</th><th>y</th><th>category</th><th>POI_count</th></tr><tr><td>i64</td><td>i64</td><td>i64</td><td>i64</td></tr></thead><tbody><tr><td>1</td><td>1</td><td>74</td><td>4</td></tr><tr><td>1</td><td>1</td><td>48</td><td>4</td></tr><tr><td>1</td><td>1</td><td>79</td><td>2</td></tr><tr><td>1</td><td>1</td><td>69</td><td>2</td></tr><tr><td>1</td><td>1</td><td>73</td><td>1</td></tr></tbody></table></div>"
      ],
      "text/plain": [
       "shape: (5, 4)\n",
       "┌─────┬─────┬──────────┬───────────┐\n",
       "│ x   ┆ y   ┆ category ┆ POI_count │\n",
       "│ --- ┆ --- ┆ ---      ┆ ---       │\n",
       "│ i64 ┆ i64 ┆ i64      ┆ i64       │\n",
       "╞═════╪═════╪══════════╪═══════════╡\n",
       "│ 1   ┆ 1   ┆ 74       ┆ 4         │\n",
       "│ 1   ┆ 1   ┆ 48       ┆ 4         │\n",
       "│ 1   ┆ 1   ┆ 79       ┆ 2         │\n",
       "│ 1   ┆ 1   ┆ 69       ┆ 2         │\n",
       "│ 1   ┆ 1   ┆ 73       ┆ 1         │\n",
       "└─────┴─────┴──────────┴───────────┘"
      ]
     },
     "execution_count": 4,
     "metadata": {},
     "output_type": "execute_result"
    }
   ],
   "source": [
    "poi_data_cityA = pl.read_csv(base_path + 'POIdata_cityA.csv')\n",
    "poi_data_cityA.head()"
   ]
  },
  {
   "cell_type": "code",
   "execution_count": 5,
   "metadata": {},
   "outputs": [],
   "source": [
    "poi_data_cityB = pl.read_csv(base_path + 'POIdata_cityB.csv')\n",
    "poi_data_cityC = pl.read_csv(base_path + 'POIdata_cityC.csv')\n",
    "poi_data_cityD = pl.read_csv(base_path + 'POIdata_cityD.csv')"
   ]
  },
  {
   "cell_type": "code",
   "execution_count": 6,
   "metadata": {},
   "outputs": [],
   "source": [
    "cityA_df = pl.read_csv(base_path + 'cityA_groundtruthdata.csv.gz')\n",
    "cityB_df = pl.read_csv(base_path + 'cityB_challengedata.csv.gz')\n",
    "cityC_df = pl.read_csv(base_path + 'cityC_challengedata.csv.gz')\n",
    "cityD_df = pl.read_csv(base_path + 'cityD_challengedata.csv.gz')"
   ]
  },
  {
   "cell_type": "code",
   "execution_count": 7,
   "metadata": {},
   "outputs": [
    {
     "data": {
      "text/html": [
       "<div><style>\n",
       ".dataframe > thead > tr,\n",
       ".dataframe > tbody > tr {\n",
       "  text-align: right;\n",
       "  white-space: pre-wrap;\n",
       "}\n",
       "</style>\n",
       "<small>shape: (5, 5)</small><table border=\"1\" class=\"dataframe\"><thead><tr><th>uid</th><th>d</th><th>t</th><th>x</th><th>y</th></tr><tr><td>i64</td><td>i64</td><td>i64</td><td>i64</td><td>i64</td></tr></thead><tbody><tr><td>0</td><td>0</td><td>1</td><td>79</td><td>86</td></tr><tr><td>0</td><td>0</td><td>2</td><td>79</td><td>86</td></tr><tr><td>0</td><td>0</td><td>8</td><td>77</td><td>86</td></tr><tr><td>0</td><td>0</td><td>9</td><td>77</td><td>86</td></tr><tr><td>0</td><td>0</td><td>19</td><td>81</td><td>89</td></tr></tbody></table></div>"
      ],
      "text/plain": [
       "shape: (5, 5)\n",
       "┌─────┬─────┬─────┬─────┬─────┐\n",
       "│ uid ┆ d   ┆ t   ┆ x   ┆ y   │\n",
       "│ --- ┆ --- ┆ --- ┆ --- ┆ --- │\n",
       "│ i64 ┆ i64 ┆ i64 ┆ i64 ┆ i64 │\n",
       "╞═════╪═════╪═════╪═════╪═════╡\n",
       "│ 0   ┆ 0   ┆ 1   ┆ 79  ┆ 86  │\n",
       "│ 0   ┆ 0   ┆ 2   ┆ 79  ┆ 86  │\n",
       "│ 0   ┆ 0   ┆ 8   ┆ 77  ┆ 86  │\n",
       "│ 0   ┆ 0   ┆ 9   ┆ 77  ┆ 86  │\n",
       "│ 0   ┆ 0   ┆ 19  ┆ 81  ┆ 89  │\n",
       "└─────┴─────┴─────┴─────┴─────┘"
      ]
     },
     "execution_count": 7,
     "metadata": {},
     "output_type": "execute_result"
    }
   ],
   "source": [
    "cityA_df.head()"
   ]
  },
  {
   "cell_type": "code",
   "execution_count": 17,
   "metadata": {},
   "outputs": [
    {
     "data": {
      "text/html": [
       "<div><style>\n",
       ".dataframe > thead > tr,\n",
       ".dataframe > tbody > tr {\n",
       "  text-align: right;\n",
       "  white-space: pre-wrap;\n",
       "}\n",
       "</style>\n",
       "<small>shape: (824_733, 5)</small><table border=\"1\" class=\"dataframe\"><thead><tr><th>uid</th><th>d</th><th>t</th><th>x</th><th>y</th></tr><tr><td>i64</td><td>i64</td><td>i64</td><td>i64</td><td>i64</td></tr></thead><tbody><tr><td>3000</td><td>60</td><td>13</td><td>999</td><td>999</td></tr><tr><td>3000</td><td>60</td><td>14</td><td>999</td><td>999</td></tr><tr><td>3000</td><td>60</td><td>15</td><td>999</td><td>999</td></tr><tr><td>3000</td><td>60</td><td>16</td><td>999</td><td>999</td></tr><tr><td>3000</td><td>60</td><td>17</td><td>999</td><td>999</td></tr><tr><td>&hellip;</td><td>&hellip;</td><td>&hellip;</td><td>&hellip;</td><td>&hellip;</td></tr><tr><td>5999</td><td>74</td><td>37</td><td>999</td><td>999</td></tr><tr><td>5999</td><td>74</td><td>38</td><td>999</td><td>999</td></tr><tr><td>5999</td><td>74</td><td>39</td><td>999</td><td>999</td></tr><tr><td>5999</td><td>74</td><td>46</td><td>999</td><td>999</td></tr><tr><td>5999</td><td>74</td><td>47</td><td>999</td><td>999</td></tr></tbody></table></div>"
      ],
      "text/plain": [
       "shape: (824_733, 5)\n",
       "┌──────┬─────┬─────┬─────┬─────┐\n",
       "│ uid  ┆ d   ┆ t   ┆ x   ┆ y   │\n",
       "│ ---  ┆ --- ┆ --- ┆ --- ┆ --- │\n",
       "│ i64  ┆ i64 ┆ i64 ┆ i64 ┆ i64 │\n",
       "╞══════╪═════╪═════╪═════╪═════╡\n",
       "│ 3000 ┆ 60  ┆ 13  ┆ 999 ┆ 999 │\n",
       "│ 3000 ┆ 60  ┆ 14  ┆ 999 ┆ 999 │\n",
       "│ 3000 ┆ 60  ┆ 15  ┆ 999 ┆ 999 │\n",
       "│ 3000 ┆ 60  ┆ 16  ┆ 999 ┆ 999 │\n",
       "│ 3000 ┆ 60  ┆ 17  ┆ 999 ┆ 999 │\n",
       "│ …    ┆ …   ┆ …   ┆ …   ┆ …   │\n",
       "│ 5999 ┆ 74  ┆ 37  ┆ 999 ┆ 999 │\n",
       "│ 5999 ┆ 74  ┆ 38  ┆ 999 ┆ 999 │\n",
       "│ 5999 ┆ 74  ┆ 39  ┆ 999 ┆ 999 │\n",
       "│ 5999 ┆ 74  ┆ 46  ┆ 999 ┆ 999 │\n",
       "│ 5999 ┆ 74  ┆ 47  ┆ 999 ┆ 999 │\n",
       "└──────┴─────┴─────┴─────┴─────┘"
      ]
     },
     "execution_count": 17,
     "metadata": {},
     "output_type": "execute_result"
    }
   ],
   "source": [
    "cityD_df.filter(pl.col(\"x\") == 999)"
   ]
  },
  {
   "cell_type": "code",
   "execution_count": 50,
   "metadata": {},
   "outputs": [
    {
     "data": {
      "text/html": [
       "<div><style>\n",
       ".dataframe > thead > tr,\n",
       ".dataframe > tbody > tr {\n",
       "  text-align: right;\n",
       "  white-space: pre-wrap;\n",
       "}\n",
       "</style>\n",
       "<small>shape: (9, 6)</small><table border=\"1\" class=\"dataframe\"><thead><tr><th>statistic</th><th>uid</th><th>d</th><th>t</th><th>x</th><th>y</th></tr><tr><td>str</td><td>f64</td><td>f64</td><td>f64</td><td>f64</td><td>f64</td></tr></thead><tbody><tr><td>&quot;count&quot;</td><td>1.11535175e8</td><td>1.11535175e8</td><td>1.11535175e8</td><td>1.11535175e8</td><td>1.11535175e8</td></tr><tr><td>&quot;null_count&quot;</td><td>0.0</td><td>0.0</td><td>0.0</td><td>0.0</td><td>0.0</td></tr><tr><td>&quot;mean&quot;</td><td>49174.605857</td><td>37.408682</td><td>25.965285</td><td>122.907866</td><td>85.650364</td></tr><tr><td>&quot;std&quot;</td><td>28811.828254</td><td>21.681454</td><td>11.167328</td><td>42.099119</td><td>42.819129</td></tr><tr><td>&quot;min&quot;</td><td>0.0</td><td>0.0</td><td>0.0</td><td>1.0</td><td>1.0</td></tr><tr><td>&quot;25%&quot;</td><td>23932.0</td><td>19.0</td><td>18.0</td><td>95.0</td><td>58.0</td></tr><tr><td>&quot;50%&quot;</td><td>49258.0</td><td>38.0</td><td>26.0</td><td>127.0</td><td>84.0</td></tr><tr><td>&quot;75%&quot;</td><td>73929.0</td><td>57.0</td><td>35.0</td><td>155.0</td><td>111.0</td></tr><tr><td>&quot;max&quot;</td><td>99999.0</td><td>74.0</td><td>47.0</td><td>200.0</td><td>200.0</td></tr></tbody></table></div>"
      ],
      "text/plain": [
       "shape: (9, 6)\n",
       "┌────────────┬──────────────┬──────────────┬──────────────┬──────────────┬──────────────┐\n",
       "│ statistic  ┆ uid          ┆ d            ┆ t            ┆ x            ┆ y            │\n",
       "│ ---        ┆ ---          ┆ ---          ┆ ---          ┆ ---          ┆ ---          │\n",
       "│ str        ┆ f64          ┆ f64          ┆ f64          ┆ f64          ┆ f64          │\n",
       "╞════════════╪══════════════╪══════════════╪══════════════╪══════════════╪══════════════╡\n",
       "│ count      ┆ 1.11535175e8 ┆ 1.11535175e8 ┆ 1.11535175e8 ┆ 1.11535175e8 ┆ 1.11535175e8 │\n",
       "│ null_count ┆ 0.0          ┆ 0.0          ┆ 0.0          ┆ 0.0          ┆ 0.0          │\n",
       "│ mean       ┆ 49174.605857 ┆ 37.408682    ┆ 25.965285    ┆ 122.907866   ┆ 85.650364    │\n",
       "│ std        ┆ 28811.828254 ┆ 21.681454    ┆ 11.167328    ┆ 42.099119    ┆ 42.819129    │\n",
       "│ min        ┆ 0.0          ┆ 0.0          ┆ 0.0          ┆ 1.0          ┆ 1.0          │\n",
       "│ 25%        ┆ 23932.0      ┆ 19.0         ┆ 18.0         ┆ 95.0         ┆ 58.0         │\n",
       "│ 50%        ┆ 49258.0      ┆ 38.0         ┆ 26.0         ┆ 127.0        ┆ 84.0         │\n",
       "│ 75%        ┆ 73929.0      ┆ 57.0         ┆ 35.0         ┆ 155.0        ┆ 111.0        │\n",
       "│ max        ┆ 99999.0      ┆ 74.0         ┆ 47.0         ┆ 200.0        ┆ 200.0        │\n",
       "└────────────┴──────────────┴──────────────┴──────────────┴──────────────┴──────────────┘"
      ]
     },
     "execution_count": 50,
     "metadata": {},
     "output_type": "execute_result"
    }
   ],
   "source": [
    "cityA_df.describe()"
   ]
  },
  {
   "cell_type": "code",
   "execution_count": 51,
   "metadata": {},
   "outputs": [
    {
     "data": {
      "text/html": [
       "<div><style>\n",
       ".dataframe > thead > tr,\n",
       ".dataframe > tbody > tr {\n",
       "  text-align: right;\n",
       "  white-space: pre-wrap;\n",
       "}\n",
       "</style>\n",
       "<small>shape: (9, 6)</small><table border=\"1\" class=\"dataframe\"><thead><tr><th>statistic</th><th>uid</th><th>d</th><th>t</th><th>x</th><th>y</th></tr><tr><td>str</td><td>f64</td><td>f64</td><td>f64</td><td>f64</td><td>f64</td></tr></thead><tbody><tr><td>&quot;count&quot;</td><td>2.4375898e7</td><td>2.4375898e7</td><td>2.4375898e7</td><td>2.4375898e7</td><td>2.4375898e7</td></tr><tr><td>&quot;null_count&quot;</td><td>0.0</td><td>0.0</td><td>0.0</td><td>0.0</td><td>0.0</td></tr><tr><td>&quot;mean&quot;</td><td>11832.904077</td><td>37.067401</td><td>25.917429</td><td>96.593006</td><td>120.529628</td></tr><tr><td>&quot;std&quot;</td><td>7110.574985</td><td>21.552692</td><td>11.172912</td><td>129.704245</td><td>128.54582</td></tr><tr><td>&quot;min&quot;</td><td>0.0</td><td>0.0</td><td>0.0</td><td>1.0</td><td>1.0</td></tr><tr><td>&quot;25%&quot;</td><td>5680.0</td><td>18.0</td><td>18.0</td><td>68.0</td><td>84.0</td></tr><tr><td>&quot;50%&quot;</td><td>11530.0</td><td>37.0</td><td>26.0</td><td>78.0</td><td>98.0</td></tr><tr><td>&quot;75%&quot;</td><td>17809.0</td><td>56.0</td><td>35.0</td><td>90.0</td><td>126.0</td></tr><tr><td>&quot;max&quot;</td><td>24999.0</td><td>74.0</td><td>47.0</td><td>999.0</td><td>999.0</td></tr></tbody></table></div>"
      ],
      "text/plain": [
       "shape: (9, 6)\n",
       "┌────────────┬──────────────┬─────────────┬─────────────┬─────────────┬─────────────┐\n",
       "│ statistic  ┆ uid          ┆ d           ┆ t           ┆ x           ┆ y           │\n",
       "│ ---        ┆ ---          ┆ ---         ┆ ---         ┆ ---         ┆ ---         │\n",
       "│ str        ┆ f64          ┆ f64         ┆ f64         ┆ f64         ┆ f64         │\n",
       "╞════════════╪══════════════╪═════════════╪═════════════╪═════════════╪═════════════╡\n",
       "│ count      ┆ 2.4375898e7  ┆ 2.4375898e7 ┆ 2.4375898e7 ┆ 2.4375898e7 ┆ 2.4375898e7 │\n",
       "│ null_count ┆ 0.0          ┆ 0.0         ┆ 0.0         ┆ 0.0         ┆ 0.0         │\n",
       "│ mean       ┆ 11832.904077 ┆ 37.067401   ┆ 25.917429   ┆ 96.593006   ┆ 120.529628  │\n",
       "│ std        ┆ 7110.574985  ┆ 21.552692   ┆ 11.172912   ┆ 129.704245  ┆ 128.54582   │\n",
       "│ min        ┆ 0.0          ┆ 0.0         ┆ 0.0         ┆ 1.0         ┆ 1.0         │\n",
       "│ 25%        ┆ 5680.0       ┆ 18.0        ┆ 18.0        ┆ 68.0        ┆ 84.0        │\n",
       "│ 50%        ┆ 11530.0      ┆ 37.0        ┆ 26.0        ┆ 78.0        ┆ 98.0        │\n",
       "│ 75%        ┆ 17809.0      ┆ 56.0        ┆ 35.0        ┆ 90.0        ┆ 126.0       │\n",
       "│ max        ┆ 24999.0      ┆ 74.0        ┆ 47.0        ┆ 999.0       ┆ 999.0       │\n",
       "└────────────┴──────────────┴─────────────┴─────────────┴─────────────┴─────────────┘"
      ]
     },
     "execution_count": 51,
     "metadata": {},
     "output_type": "execute_result"
    }
   ],
   "source": [
    "cityB_df.describe()"
   ]
  },
  {
   "cell_type": "code",
   "execution_count": 52,
   "metadata": {},
   "outputs": [
    {
     "data": {
      "text/html": [
       "<div><style>\n",
       ".dataframe > thead > tr,\n",
       ".dataframe > tbody > tr {\n",
       "  text-align: right;\n",
       "  white-space: pre-wrap;\n",
       "}\n",
       "</style>\n",
       "<small>shape: (9, 6)</small><table border=\"1\" class=\"dataframe\"><thead><tr><th>statistic</th><th>uid</th><th>d</th><th>t</th><th>x</th><th>y</th></tr><tr><td>str</td><td>f64</td><td>f64</td><td>f64</td><td>f64</td><td>f64</td></tr></thead><tbody><tr><td>&quot;count&quot;</td><td>1.8456528e7</td><td>1.8456528e7</td><td>1.8456528e7</td><td>1.8456528e7</td><td>1.8456528e7</td></tr><tr><td>&quot;null_count&quot;</td><td>0.0</td><td>0.0</td><td>0.0</td><td>0.0</td><td>0.0</td></tr><tr><td>&quot;mean&quot;</td><td>9496.01815</td><td>36.928308</td><td>26.050948</td><td>52.33526</td><td>172.679332</td></tr><tr><td>&quot;std&quot;</td><td>5718.955907</td><td>21.564766</td><td>11.129113</td><td>150.206589</td><td>133.30389</td></tr><tr><td>&quot;min&quot;</td><td>0.0</td><td>0.0</td><td>0.0</td><td>1.0</td><td>1.0</td></tr><tr><td>&quot;25%&quot;</td><td>4509.0</td><td>18.0</td><td>18.0</td><td>21.0</td><td>146.0</td></tr><tr><td>&quot;50%&quot;</td><td>9279.0</td><td>37.0</td><td>26.0</td><td>27.0</td><td>155.0</td></tr><tr><td>&quot;75%&quot;</td><td>14340.0</td><td>56.0</td><td>35.0</td><td>36.0</td><td>169.0</td></tr><tr><td>&quot;max&quot;</td><td>19999.0</td><td>74.0</td><td>47.0</td><td>999.0</td><td>999.0</td></tr></tbody></table></div>"
      ],
      "text/plain": [
       "shape: (9, 6)\n",
       "┌────────────┬─────────────┬─────────────┬─────────────┬─────────────┬─────────────┐\n",
       "│ statistic  ┆ uid         ┆ d           ┆ t           ┆ x           ┆ y           │\n",
       "│ ---        ┆ ---         ┆ ---         ┆ ---         ┆ ---         ┆ ---         │\n",
       "│ str        ┆ f64         ┆ f64         ┆ f64         ┆ f64         ┆ f64         │\n",
       "╞════════════╪═════════════╪═════════════╪═════════════╪═════════════╪═════════════╡\n",
       "│ count      ┆ 1.8456528e7 ┆ 1.8456528e7 ┆ 1.8456528e7 ┆ 1.8456528e7 ┆ 1.8456528e7 │\n",
       "│ null_count ┆ 0.0         ┆ 0.0         ┆ 0.0         ┆ 0.0         ┆ 0.0         │\n",
       "│ mean       ┆ 9496.01815  ┆ 36.928308   ┆ 26.050948   ┆ 52.33526    ┆ 172.679332  │\n",
       "│ std        ┆ 5718.955907 ┆ 21.564766   ┆ 11.129113   ┆ 150.206589  ┆ 133.30389   │\n",
       "│ min        ┆ 0.0         ┆ 0.0         ┆ 0.0         ┆ 1.0         ┆ 1.0         │\n",
       "│ 25%        ┆ 4509.0      ┆ 18.0        ┆ 18.0        ┆ 21.0        ┆ 146.0       │\n",
       "│ 50%        ┆ 9279.0      ┆ 37.0        ┆ 26.0        ┆ 27.0        ┆ 155.0       │\n",
       "│ 75%        ┆ 14340.0     ┆ 56.0        ┆ 35.0        ┆ 36.0        ┆ 169.0       │\n",
       "│ max        ┆ 19999.0     ┆ 74.0        ┆ 47.0        ┆ 999.0       ┆ 999.0       │\n",
       "└────────────┴─────────────┴─────────────┴─────────────┴─────────────┴─────────────┘"
      ]
     },
     "execution_count": 52,
     "metadata": {},
     "output_type": "execute_result"
    }
   ],
   "source": [
    "cityC_df.describe()"
   ]
  },
  {
   "cell_type": "code",
   "execution_count": 54,
   "metadata": {},
   "outputs": [
    {
     "data": {
      "text/html": [
       "<div><style>\n",
       ".dataframe > thead > tr,\n",
       ".dataframe > tbody > tr {\n",
       "  text-align: right;\n",
       "  white-space: pre-wrap;\n",
       "}\n",
       "</style>\n",
       "<small>shape: (9, 6)</small><table border=\"1\" class=\"dataframe\"><thead><tr><th>statistic</th><th>uid</th><th>d</th><th>t</th><th>x</th><th>y</th></tr><tr><td>str</td><td>f64</td><td>f64</td><td>f64</td><td>f64</td><td>f64</td></tr></thead><tbody><tr><td>&quot;count&quot;</td><td>8.418135e6</td><td>8.418135e6</td><td>8.418135e6</td><td>8.418135e6</td><td>8.418135e6</td></tr><tr><td>&quot;null_count&quot;</td><td>0.0</td><td>0.0</td><td>0.0</td><td>0.0</td><td>0.0</td></tr><tr><td>&quot;mean&quot;</td><td>2921.240095</td><td>37.032223</td><td>25.404322</td><td>206.276453</td><td>173.875274</td></tr><tr><td>&quot;std&quot;</td><td>1716.521117</td><td>21.683317</td><td>11.804886</td><td>264.853685</td><td>274.677443</td></tr><tr><td>&quot;min&quot;</td><td>0.0</td><td>0.0</td><td>0.0</td><td>1.0</td><td>1.0</td></tr><tr><td>&quot;25%&quot;</td><td>1431.0</td><td>18.0</td><td>17.0</td><td>96.0</td><td>55.0</td></tr><tr><td>&quot;50%&quot;</td><td>2894.0</td><td>37.0</td><td>26.0</td><td>119.0</td><td>97.0</td></tr><tr><td>&quot;75%&quot;</td><td>4398.0</td><td>56.0</td><td>35.0</td><td>181.0</td><td>117.0</td></tr><tr><td>&quot;max&quot;</td><td>5999.0</td><td>74.0</td><td>47.0</td><td>999.0</td><td>999.0</td></tr></tbody></table></div>"
      ],
      "text/plain": [
       "shape: (9, 6)\n",
       "┌────────────┬─────────────┬────────────┬────────────┬────────────┬────────────┐\n",
       "│ statistic  ┆ uid         ┆ d          ┆ t          ┆ x          ┆ y          │\n",
       "│ ---        ┆ ---         ┆ ---        ┆ ---        ┆ ---        ┆ ---        │\n",
       "│ str        ┆ f64         ┆ f64        ┆ f64        ┆ f64        ┆ f64        │\n",
       "╞════════════╪═════════════╪════════════╪════════════╪════════════╪════════════╡\n",
       "│ count      ┆ 8.418135e6  ┆ 8.418135e6 ┆ 8.418135e6 ┆ 8.418135e6 ┆ 8.418135e6 │\n",
       "│ null_count ┆ 0.0         ┆ 0.0        ┆ 0.0        ┆ 0.0        ┆ 0.0        │\n",
       "│ mean       ┆ 2921.240095 ┆ 37.032223  ┆ 25.404322  ┆ 206.276453 ┆ 173.875274 │\n",
       "│ std        ┆ 1716.521117 ┆ 21.683317  ┆ 11.804886  ┆ 264.853685 ┆ 274.677443 │\n",
       "│ min        ┆ 0.0         ┆ 0.0        ┆ 0.0        ┆ 1.0        ┆ 1.0        │\n",
       "│ 25%        ┆ 1431.0      ┆ 18.0       ┆ 17.0       ┆ 96.0       ┆ 55.0       │\n",
       "│ 50%        ┆ 2894.0      ┆ 37.0       ┆ 26.0       ┆ 119.0      ┆ 97.0       │\n",
       "│ 75%        ┆ 4398.0      ┆ 56.0       ┆ 35.0       ┆ 181.0      ┆ 117.0      │\n",
       "│ max        ┆ 5999.0      ┆ 74.0       ┆ 47.0       ┆ 999.0      ┆ 999.0      │\n",
       "└────────────┴─────────────┴────────────┴────────────┴────────────┴────────────┘"
      ]
     },
     "execution_count": 54,
     "metadata": {},
     "output_type": "execute_result"
    }
   ],
   "source": [
    "cityD_df.describe()"
   ]
  },
  {
   "cell_type": "code",
   "execution_count": 41,
   "metadata": {},
   "outputs": [
    {
     "data": {
      "text/html": [
       "<div><style>\n",
       ".dataframe > thead > tr,\n",
       ".dataframe > tbody > tr {\n",
       "  text-align: right;\n",
       "  white-space: pre-wrap;\n",
       "}\n",
       "</style>\n",
       "<small>shape: (5, 2)</small><table border=\"1\" class=\"dataframe\"><thead><tr><th>d</th><th>len</th></tr><tr><td>i64</td><td>u32</td></tr></thead><tbody><tr><td>0</td><td>1252461</td></tr><tr><td>1</td><td>1288870</td></tr><tr><td>2</td><td>1511471</td></tr><tr><td>3</td><td>1514080</td></tr><tr><td>4</td><td>1547785</td></tr></tbody></table></div>"
      ],
      "text/plain": [
       "shape: (5, 2)\n",
       "┌─────┬─────────┐\n",
       "│ d   ┆ len     │\n",
       "│ --- ┆ ---     │\n",
       "│ i64 ┆ u32     │\n",
       "╞═════╪═════════╡\n",
       "│ 0   ┆ 1252461 │\n",
       "│ 1   ┆ 1288870 │\n",
       "│ 2   ┆ 1511471 │\n",
       "│ 3   ┆ 1514080 │\n",
       "│ 4   ┆ 1547785 │\n",
       "└─────┴─────────┘"
      ]
     },
     "execution_count": 41,
     "metadata": {},
     "output_type": "execute_result"
    }
   ],
   "source": [
    "cityA_count = cityA_df.group_by('d').len().sort('d')\n",
    "cityB_count = cityB_df.group_by('d').len().sort('d')\n",
    "cityC_count = cityC_df.group_by('d').len().sort('d')\n",
    "cityD_count = cityD_df.group_by('d').len().sort('d')\n",
    "cityA_count.head()"
   ]
  },
  {
   "cell_type": "code",
   "execution_count": 42,
   "metadata": {},
   "outputs": [],
   "source": [
    "import matplotlib.pyplot as plt"
   ]
  },
  {
   "cell_type": "code",
   "execution_count": 55,
   "metadata": {},
   "outputs": [
    {
     "data": {
      "text/plain": [
       "<matplotlib.legend.Legend at 0x7fd6831c3cd0>"
      ]
     },
     "execution_count": 55,
     "metadata": {},
     "output_type": "execute_result"
    },
    {
     "data": {
      "image/png": "[encoded data removed]",
      "text/plain": [
       "<Figure size 640x480 with 1 Axes>"
      ]
     },
     "metadata": {},
     "output_type": "display_data"
    }
   ],
   "source": [
    "dfs ={\"cityA\":cityA_count,\"cityB\":cityB_count, \"cityC\":cityC_count, \"cityD\":cityD_count}\n",
    "for name, df in dfs.items():\n",
    "    x = df[\"d\"].to_list()\n",
    "    y = df[\"len\"].to_list()\n",
    "    plt.plot(x, y, marker='o', label=name)\n",
    "plt.xlabel(\"day\")\n",
    "plt.ylabel(\"count\")\n",
    "plt.title(\"Record Count for each day\")\n",
    "plt.grid(True)  # グリッド線を表示\n",
    "plt.legend()"
   ]
  },
  {
   "cell_type": "code",
   "execution_count": null,
   "metadata": {},
   "outputs": [],
   "source": []
  }
 ],
 "metadata": {
  "kernelspec": {
   "display_name": "base",
   "language": "python",
   "name": "python3"
  },
  "language_info": {
   "codemirror_mode": {
    "name": "ipython",
    "version": 3
   },
   "file_extension": ".py",
   "mimetype": "text/x-python",
   "name": "python",
   "nbconvert_exporter": "python",
   "pygments_lexer": "ipython3",
   "version": "3.10.13"
  }
 },
 "nbformat": 4,
 "nbformat_minor": 2
}
